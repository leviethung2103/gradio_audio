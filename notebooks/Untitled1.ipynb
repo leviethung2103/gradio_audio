{
 "cells": [
  {
   "cell_type": "markdown",
   "id": "7647fbdc-636f-4206-bf4e-9089c81d2c05",
   "metadata": {},
   "source": [
    "## Convert mp3 file to wav file"
   ]
  },
  {
   "cell_type": "code",
   "execution_count": 1,
   "id": "56692c6f-4003-4a77-bac5-d843490d855e",
   "metadata": {},
   "outputs": [
    {
     "name": "stdout",
     "output_type": "stream",
     "text": [
      "Conversion complete. /home/jovyan/work/audio/230914_6_minute_english_making_male_friends_download.mp3 has been converted to /home/jovyan/work/audio/230914_6_minute_english_making_male_friends_download.wav\n"
     ]
    }
   ],
   "source": [
    "from pydub import AudioSegment\n",
    "\n",
    "# Load the MP3 file\n",
    "mp3_file = \"/home/jovyan/work/audio/230914_6_minute_english_making_male_friends_download.mp3\"\n",
    "audio = AudioSegment.from_mp3(mp3_file)\n",
    "\n",
    "# Convert to WAV format\n",
    "wav_file = \"/home/jovyan/work/audio/230914_6_minute_english_making_male_friends_download.wav\"\n",
    "audio.export(wav_file, format=\"wav\")\n",
    "\n",
    "print(f\"Conversion complete. {mp3_file} has been converted to {wav_file}\")\n"
   ]
  }
 ],
 "metadata": {
  "kernelspec": {
   "display_name": "Python 3 (ipykernel)",
   "language": "python",
   "name": "python3"
  },
  "language_info": {
   "codemirror_mode": {
    "name": "ipython",
    "version": 3
   },
   "file_extension": ".py",
   "mimetype": "text/x-python",
   "name": "python",
   "nbconvert_exporter": "python",
   "pygments_lexer": "ipython3",
   "version": "3.8.13"
  }
 },
 "nbformat": 4,
 "nbformat_minor": 5
}
