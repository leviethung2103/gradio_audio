{
 "cells": [
  {
   "cell_type": "code",
   "execution_count": 1,
   "id": "2780bb33-09a2-4aff-be1b-13192f80432a",
   "metadata": {},
   "outputs": [
    {
     "name": "stdout",
     "output_type": "stream",
     "text": [
      "Cloning into 'voxseg'...\n",
      "remote: Enumerating objects: 386, done.\u001b[K\n",
      "remote: Counting objects: 100% (71/71), done.\u001b[K\n",
      "remote: Compressing objects: 100% (49/49), done.\u001b[K\n",
      "remote: Total 386 (delta 44), reused 47 (delta 22), pack-reused 315\u001b[K\n",
      "Receiving objects: 100% (386/386), 100.46 MiB | 7.45 MiB/s, done.\n",
      "Resolving deltas: 100% (229/229), done.\n"
     ]
    }
   ],
   "source": [
    "!git clone https://github.com/NickWilkinson37/voxseg.git"
   ]
  },
  {
   "cell_type": "code",
   "execution_count": 2,
   "id": "786f5ea9-7d28-40ec-becc-b2479bcfb3c6",
   "metadata": {},
   "outputs": [
    {
     "name": "stdout",
     "output_type": "stream",
     "text": [
      "\u001b[33mWARNING: The directory '/home/jovyan/.cache/pip' or its parent directory is not owned or is not writable by the current user. The cache has been disabled. Check the permissions and owner of that directory. If executing pip with sudo, you should use sudo's -H flag.\u001b[0m\u001b[33m\n",
      "\u001b[0mProcessing ./voxseg\n",
      "  Preparing metadata (setup.py) ... \u001b[?25ldone\n",
      "\u001b[?25hRequirement already satisfied: wheel in /opt/conda/lib/python3.8/site-packages (from voxseg==0.1.0) (0.37.1)\n",
      "Requirement already satisfied: pandas in /opt/conda/lib/python3.8/site-packages (from voxseg==0.1.0) (1.5.0)\n",
      "Requirement already satisfied: scipy in /opt/conda/lib/python3.8/site-packages (from voxseg==0.1.0) (1.9.1)\n",
      "Requirement already satisfied: tables in /opt/conda/lib/python3.8/site-packages (from voxseg==0.1.0) (3.7.0)\n",
      "Collecting python_speech_features\n",
      "  Downloading python_speech_features-0.6.tar.gz (5.6 kB)\n",
      "  Preparing metadata (setup.py) ... \u001b[?25ldone\n",
      "\u001b[?25hCollecting tensorflow\n",
      "  Downloading tensorflow-2.13.1-cp38-cp38-manylinux_2_17_aarch64.manylinux2014_aarch64.whl (2.0 kB)\n",
      "Requirement already satisfied: python-dateutil>=2.8.1 in /opt/conda/lib/python3.8/site-packages (from pandas->voxseg==0.1.0) (2.8.2)\n",
      "Requirement already satisfied: pytz>=2020.1 in /opt/conda/lib/python3.8/site-packages (from pandas->voxseg==0.1.0) (2022.4)\n",
      "Requirement already satisfied: numpy>=1.20.3 in /opt/conda/lib/python3.8/site-packages (from pandas->voxseg==0.1.0) (1.23.3)\n",
      "Requirement already satisfied: numexpr>=2.6.2 in /opt/conda/lib/python3.8/site-packages (from tables->voxseg==0.1.0) (2.8.3)\n",
      "Requirement already satisfied: packaging in /opt/conda/lib/python3.8/site-packages (from tables->voxseg==0.1.0) (21.3)\n",
      "Collecting tensorflow-cpu-aws==2.13.1\n",
      "  Downloading tensorflow_cpu_aws-2.13.1-cp38-cp38-manylinux_2_17_aarch64.manylinux2014_aarch64.whl (248.7 MB)\n",
      "\u001b[2K     \u001b[38;5;237m━━━━━━━━━━━━━━━━━━━━━━━━━━━━━━━━━━━━━━━━\u001b[0m \u001b[32m2.4/248.7 MB\u001b[0m \u001b[31m80.2 kB/s\u001b[0m eta \u001b[36m0:51:11\u001b[0m^C\n",
      "\u001b[2K     \u001b[38;5;237m━━━━━━━━━━━━━━━━━━━━━━━━━━━━━━━━━━━━━━━━\u001b[0m \u001b[32m2.4/248.7 MB\u001b[0m \u001b[31m80.2 kB/s\u001b[0m eta \u001b[36m0:51:11\u001b[0m\n",
      "\u001b[?25h\u001b[31mERROR: Operation cancelled by user\u001b[0m\u001b[31m\n",
      "\u001b[0m"
     ]
    }
   ],
   "source": [
    "!pip install ./voxseg"
   ]
  },
  {
   "cell_type": "code",
   "execution_count": 3,
   "id": "00271e4a-ebb6-44df-bb6d-7ad23a759895",
   "metadata": {},
   "outputs": [
    {
     "name": "stdout",
     "output_type": "stream",
     "text": [
      "\n",
      "----------------------------------------------------------------------\n",
      "Ran 0 tests in 0.000s\n",
      "\n",
      "OK\n"
     ]
    }
   ],
   "source": [
    "!cd voxseg\n",
    "!python -m unittest"
   ]
  },
  {
   "cell_type": "code",
   "execution_count": null,
   "id": "67946dfd-521b-4b1f-8909-df044aa40d21",
   "metadata": {},
   "outputs": [],
   "source": []
  }
 ],
 "metadata": {
  "kernelspec": {
   "display_name": "Python 3 (ipykernel)",
   "language": "python",
   "name": "python3"
  },
  "language_info": {
   "codemirror_mode": {
    "name": "ipython",
    "version": 3
   },
   "file_extension": ".py",
   "mimetype": "text/x-python",
   "name": "python",
   "nbconvert_exporter": "python",
   "pygments_lexer": "ipython3",
   "version": "3.8.13"
  }
 },
 "nbformat": 4,
 "nbformat_minor": 5
}
