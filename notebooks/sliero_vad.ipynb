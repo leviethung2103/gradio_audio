{
 "cells": [
  {
   "cell_type": "code",
   "execution_count": null,
   "id": "fdf93f25-5cb8-4cd5-bb83-734b57a17298",
   "metadata": {},
   "outputs": [],
   "source": [
    "# this assumes that you have a relevant version of PyTorch installed\n",
    "!pip install -q torchaudio"
   ]
  },
  {
   "cell_type": "code",
   "execution_count": 1,
   "id": "92e7de0e-f664-4151-a29e-2683b94b14ad",
   "metadata": {},
   "outputs": [
    {
     "name": "stderr",
     "output_type": "stream",
     "text": [
      "100%|█████████████████████████████████████████████████████████████████████████████████████████████| 1.83M/1.83M [00:01<00:00, 1.14MB/s]\n"
     ]
    }
   ],
   "source": [
    "SAMPLING_RATE = 16000\n",
    "\n",
    "import torch\n",
    "torch.set_num_threads(1)\n",
    "\n",
    "from IPython.display import Audio\n",
    "from pprint import pprint"
   ]
  },
  {
   "cell_type": "code",
   "execution_count": 2,
   "id": "57a6670e-f528-4458-8abe-7eb3d5dafd23",
   "metadata": {},
   "outputs": [
    {
     "name": "stderr",
     "output_type": "stream",
     "text": [
      "Downloading: \"https://github.com/snakers4/silero-vad/zipball/master\" to /home/jovyan/.cache/torch/hub/master.zip\n"
     ]
    }
   ],
   "source": [
    "model, utils = torch.hub.load(repo_or_dir='snakers4/silero-vad',\n",
    "                              model='silero_vad',\n",
    "                              force_reload=True,\n",
    "                              onnx=False)\n",
    "\n",
    "(get_speech_timestamps,\n",
    " save_audio,\n",
    " read_audio,\n",
    " VADIterator,\n",
    " collect_chunks) = utils"
   ]
  },
  {
   "cell_type": "markdown",
   "id": "9c3c37da-ae89-4c5c-ab64-a24b5254e8e8",
   "metadata": {},
   "source": [
    "Default:\n",
    "- Return the samples\n",
    "\n",
    "Set the params: `return_seconds = True` in order to return in seconds."
   ]
  },
  {
   "cell_type": "code",
   "execution_count": 18,
   "id": "5c6c4e15-5189-408e-adae-2060ead5d090",
   "metadata": {},
   "outputs": [
    {
     "data": {
      "text/plain": [
       "[{'start': 0.9, 'end': 2.7},\n",
       " {'start': 2.9, 'end': 4.6},\n",
       " {'start': 9.2, 'end': 15.1},\n",
       " {'start': 16.6, 'end': 20.6},\n",
       " {'start': 22.0, 'end': 22.4},\n",
       " {'start': 22.9, 'end': 26.1},\n",
       " {'start': 26.8, 'end': 29.4},\n",
       " {'start': 29.9, 'end': 36.7},\n",
       " {'start': 37.1, 'end': 37.9},\n",
       " {'start': 38.7, 'end': 39.0},\n",
       " {'start': 39.2, 'end': 39.7},\n",
       " {'start': 40.1, 'end': 49.8},\n",
       " {'start': 49.9, 'end': 60.0}]"
      ]
     },
     "execution_count": 18,
     "metadata": {},
     "output_type": "execute_result"
    }
   ],
   "source": [
    "wav = read_audio('/home/jovyan/work/audio/Noise_TestCase1.wav', sampling_rate=SAMPLING_RATE)\n",
    "# get speech timestamps from full audio file\n",
    "# This method is used for splitting long audios into speech chunks using silero VAD\n",
    "\n",
    "speech_timestamps = get_speech_timestamps(wav, model, sampling_rate=SAMPLING_RATE, threshold = 0.5, min_speech_duration_ms = 250,speech_pad_ms = 30, return_seconds=True)\n",
    "speech_timestamps"
   ]
  },
  {
   "cell_type": "code",
   "execution_count": null,
   "id": "f924b985-2646-46f6-abbe-b39d98276f56",
   "metadata": {},
   "outputs": [],
   "source": []
  }
 ],
 "metadata": {
  "kernelspec": {
   "display_name": "Python 3 (ipykernel)",
   "language": "python",
   "name": "python3"
  },
  "language_info": {
   "codemirror_mode": {
    "name": "ipython",
    "version": 3
   },
   "file_extension": ".py",
   "mimetype": "text/x-python",
   "name": "python",
   "nbconvert_exporter": "python",
   "pygments_lexer": "ipython3",
   "version": "3.8.13"
  }
 },
 "nbformat": 4,
 "nbformat_minor": 5
}
