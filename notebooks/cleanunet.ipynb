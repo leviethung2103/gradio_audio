{
 "cells": [
  {
   "cell_type": "code",
   "execution_count": 1,
   "id": "d5df39c4-8f1c-4f70-80f9-3078ec645ead",
   "metadata": {},
   "outputs": [
    {
     "name": "stdout",
     "output_type": "stream",
     "text": [
      "/home/jovyan/work/gradio\n"
     ]
    }
   ],
   "source": [
    "%cd /home/jovyan/work/gradio"
   ]
  },
  {
   "cell_type": "code",
   "execution_count": 2,
   "id": "9d164ba6-b744-4dee-b123-47c13aecbb22",
   "metadata": {},
   "outputs": [],
   "source": [
    "from cleanunet.utils import CleanUNetDenoise\n",
    "from cleanunet.config.cleanunet_constant import OUTPUT_PREDICTION_CLEANUNET_DIR\n",
    "import torch\n",
    "import torchaudio"
   ]
  },
  {
   "cell_type": "code",
   "execution_count": 3,
   "id": "ed12ce66-c6f8-4771-8a4a-1af8974d6dc5",
   "metadata": {},
   "outputs": [
    {
     "name": "stdout",
     "output_type": "stream",
     "text": [
      "/home/jovyan/work/gradio\n"
     ]
    }
   ],
   "source": [
    "!pwd"
   ]
  },
  {
   "cell_type": "code",
   "execution_count": 4,
   "id": "295169a1-10d1-41f3-aab1-6fbba95204ba",
   "metadata": {},
   "outputs": [
    {
     "name": "stdout",
     "output_type": "stream",
     "text": [
      "total 84604\n",
      "-rw-r--r-- 1 root root   306284 Sep 27 15:03 sample1.wav\n",
      "-rwxr-xr-x 1 root root  5292044 Sep 28 07:49 Noise_TestCase1.wav\n",
      "-rw-r--r-- 1 root root 66038240 Sep 28 16:37 230914_6_minute_english_making_male_friends_download.wav\n",
      "-rw-r--r-- 1 root root     5674 Sep 19 03:11 230914_6_minute_english_making_male_friends_download.txt\n",
      "-rw-r--r-- 1 root root 14981743 Sep 19 03:10 230914_6_minute_english_making_male_friends_download.mp3\n"
     ]
    }
   ],
   "source": [
    "!ls -lr '/home/jovyan/work/audio'"
   ]
  },
  {
   "cell_type": "code",
   "execution_count": 5,
   "id": "b80ce392-4e73-4056-97ee-b955929d39e4",
   "metadata": {},
   "outputs": [
    {
     "name": "stdout",
     "output_type": "stream",
     "text": [
      "/home/jovyan/work/gradio\n"
     ]
    }
   ],
   "source": [
    "!pwd"
   ]
  },
  {
   "cell_type": "code",
   "execution_count": 6,
   "id": "2a9ecc92-a181-421a-9b69-3dfc5919872a",
   "metadata": {},
   "outputs": [
    {
     "name": "stdout",
     "output_type": "stream",
     "text": [
      "-rw-r--r-- 1 root root 184336765 Sep 29 03:07 /home/jovyan/work/gradio/cleanunet/checkpoint/pretrained.pkl\n"
     ]
    }
   ],
   "source": [
    "!ls -lr /home/jovyan/work/gradio/cleanunet/checkpoint/pretrained.pkl\n"
   ]
  },
  {
   "cell_type": "code",
   "execution_count": null,
   "id": "8fee6904-e0a3-4203-a2cb-af70ee916b1b",
   "metadata": {},
   "outputs": [],
   "source": [
    "\n",
    "# Load noise reduction for pin mic - load model CleanUNet\n",
    "clean_unet = CleanUNetDenoise()\n",
    "clean_unet.load_model()\n",
    "\n",
    "output_audio = []\n",
    "audio_path = '/home/jovyan/work/audio/Noise_TestCase1.wav'\n",
    "audio = torchaudio.load(audio_path)[0]\n",
    "output_audio.append(clean_unet.denoise_audio(audio))"
   ]
  },
  {
   "cell_type": "code",
   "execution_count": null,
   "id": "325dea69-ab28-4b9a-9688-64e57ab1e5ae",
   "metadata": {},
   "outputs": [],
   "source": []
  }
 ],
 "metadata": {
  "kernelspec": {
   "display_name": "Python 3 (ipykernel)",
   "language": "python",
   "name": "python3"
  },
  "language_info": {
   "codemirror_mode": {
    "name": "ipython",
    "version": 3
   },
   "file_extension": ".py",
   "mimetype": "text/x-python",
   "name": "python",
   "nbconvert_exporter": "python",
   "pygments_lexer": "ipython3",
   "version": "3.8.13"
  }
 },
 "nbformat": 4,
 "nbformat_minor": 5
}
